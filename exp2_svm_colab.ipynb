{
  "cells": [
    {
      "cell_type": "markdown",
      "id": "76457a8b",
      "metadata": {
        "id": "76457a8b"
      },
      "source": [
        "# 指文字(数字)認識 — 実験2\n",
        "pivot_table を穴埋めし、SVM で分類してみよう。\n",
        "\n",
        "---\n",
        "\n",
        "### 本日のゴール\n",
        "1. **pivot_table** の穴埋め → `X(180,42)` と `y(180,)` を生成  \n",
        "2. **SVM** で学習・評価し、**正解率の変動** を観察  \n",
        "3. **発展課題**: 座標シフト正規化で精度向上 & 好きな改善アイデアに挑戦  \n",
        "\n",
        "> 提出物  \n",
        "> - ノートブック (`exp2_<学籍番号>.ipynb`)  \n",
        "> - accuracy 結果 (C, kernel 変更含む 3 回以上)  \n",
        "> - 考察欄の記述  \n"
      ]
    },
    {
      "cell_type": "markdown",
      "id": "fb85cc2a",
      "metadata": {
        "id": "fb85cc2a"
      },
      "source": [
        "## 0. ライブラリ読み込み"
      ]
    },
    {
      "cell_type": "code",
      "execution_count": 2,
      "id": "3eb6290d",
      "metadata": {
        "id": "3eb6290d"
      },
      "outputs": [
        {
          "ename": "ModuleNotFoundError",
          "evalue": "No module named 'numpy'",
          "output_type": "error",
          "traceback": [
            "\u001b[31m---------------------------------------------------------------------------\u001b[39m",
            "\u001b[31mModuleNotFoundError\u001b[39m                       Traceback (most recent call last)",
            "\u001b[36mCell\u001b[39m\u001b[36m \u001b[39m\u001b[32mIn[2]\u001b[39m\u001b[32m, line 1\u001b[39m\n\u001b[32m----> \u001b[39m\u001b[32m1\u001b[39m \u001b[38;5;28;01mimport\u001b[39;00m\u001b[38;5;250m \u001b[39m\u001b[34;01mnumpy\u001b[39;00m\u001b[38;5;250m \u001b[39m\u001b[38;5;28;01mas\u001b[39;00m\u001b[38;5;250m \u001b[39m\u001b[34;01mnp\u001b[39;00m,\u001b[38;5;250m \u001b[39m\u001b[34;01mpandas\u001b[39;00m\u001b[38;5;250m \u001b[39m\u001b[38;5;28;01mas\u001b[39;00m\u001b[38;5;250m \u001b[39m\u001b[34;01mpd\u001b[39;00m,\u001b[38;5;250m \u001b[39m\u001b[34;01mglob\u001b[39;00m,\u001b[38;5;250m \u001b[39m\u001b[34;01mos\u001b[39;00m,\u001b[38;5;250m \u001b[39m\u001b[34;01mmatplotlib\u001b[39;00m\u001b[34;01m.\u001b[39;00m\u001b[34;01mpyplot\u001b[39;00m\u001b[38;5;250m \u001b[39m\u001b[38;5;28;01mas\u001b[39;00m\u001b[38;5;250m \u001b[39m\u001b[34;01mplt\u001b[39;00m\n\u001b[32m      2\u001b[39m \u001b[38;5;28;01mfrom\u001b[39;00m\u001b[38;5;250m \u001b[39m\u001b[34;01msklearn\u001b[39;00m\u001b[34;01m.\u001b[39;00m\u001b[34;01mmodel_selection\u001b[39;00m\u001b[38;5;250m \u001b[39m\u001b[38;5;28;01mimport\u001b[39;00m train_test_split\n\u001b[32m      3\u001b[39m \u001b[38;5;28;01mfrom\u001b[39;00m\u001b[38;5;250m \u001b[39m\u001b[34;01msklearn\u001b[39;00m\u001b[34;01m.\u001b[39;00m\u001b[34;01msvm\u001b[39;00m\u001b[38;5;250m \u001b[39m\u001b[38;5;28;01mimport\u001b[39;00m SVC\n",
            "\u001b[31mModuleNotFoundError\u001b[39m: No module named 'numpy'"
          ]
        }
      ],
      "source": [
        "import numpy as np, pandas as pd, glob, os, matplotlib.pyplot as plt\n",
        "from sklearn.model_selection import train_test_split\n",
        "from sklearn.svm import SVC\n",
        "from sklearn.metrics import accuracy_score, ConfusionMatrixDisplay\n",
        "print('✔️ libs ready')"
      ]
    },
    {
      "cell_type": "markdown",
      "id": "a3b6426c",
      "metadata": {
        "id": "a3b6426c"
      },
      "source": [
        "## 1. CSV を `data/` にアップロード\n",
        "1. 左のフォルダ ▶ で `右クリック` → **`data`** フォルダ作成  \n",
        "2. `1-01.csv`〜`9-20.csv` を **ドラッグ&ドロップ**  \n",
        "3. 下セルで 180 枚あるか確認"
      ]
    },
    {
      "cell_type": "code",
      "execution_count": null,
      "id": "9ed80fca",
      "metadata": {
        "id": "9ed80fca"
      },
      "outputs": [],
      "source": [
        "csv_files = sorted(glob.glob('data/*.csv'))\n",
        "print('files:', len(csv_files))\n",
        "assert len(csv_files)==180, '180 枚ない場合はアップロード漏れを確認'"
      ]
    },
    {
      "cell_type": "markdown",
      "id": "b26de9f5",
      "metadata": {
        "id": "b26de9f5"
      },
      "source": [
        "## 2. `total` DataFrame を作成"
      ]
    },
    {
      "cell_type": "code",
      "execution_count": null,
      "id": "07e3f058",
      "metadata": {
        "id": "07e3f058"
      },
      "outputs": [],
      "source": [
        "df_list=[]\n",
        "for f in csv_files:\n",
        "    label, num = os.path.splitext(os.path.basename(f))[0].split('-')\n",
        "    tmp = pd.read_csv(f)\n",
        "    tmp['label'] = int(label); tmp['num'] = int(num)\n",
        "    df_list.append(tmp)\n",
        "total = pd.concat(df_list, ignore_index=True)\n",
        "df = total   # 別名 df (発展課題と合わせるため)\n",
        "print('total shape:', total.shape)\n",
        "total.head()"
      ]
    },
    {
      "cell_type": "markdown",
      "id": "cd86ca36",
      "metadata": {
        "id": "cd86ca36"
      },
      "source": [
        "### 2‑1. ざっくり形状を散布図で見る"
      ]
    },
    {
      "cell_type": "code",
      "execution_count": null,
      "id": "73dee763",
      "metadata": {
        "id": "73dee763"
      },
      "outputs": [],
      "source": [
        "fig, ax = plt.subplots(figsize=(5,5))\n",
        "for lbl in range(1,10):\n",
        "    tmp = total[total['label']==lbl]\n",
        "    ax.scatter(tmp['x'], tmp['y'], s=10, alpha=0.6, label=str(lbl))\n",
        "ax.set_aspect('equal')\n",
        "ax.set_xlabel('x (0‑1)'); ax.set_ylabel('y (0‑1)')\n",
        "ax.set_title('Landmarks by Label (color)')\n",
        "ax.legend(title='digit')\n",
        "plt.show()"
      ]
    },
    {
      "cell_type": "markdown",
      "id": "6c5b1a6a",
      "metadata": {
        "id": "6c5b1a6a"
      },
      "source": [
        "## 3. pivot_table – 穴埋めチャレンジ\n",
        "\n",
        "**目標:** `X.shape == (180, 42)` と `y.shape == (180,)` を作ること。\n",
        "\n",
        "> **なぜ pivot?**  \n",
        "> - 縦長 (3780 行) では “1 行 = 1 サンプル” になっていない  \n",
        "> - pivot で **横長 (180 行 × 42 列)** に並び替えることで、  \n",
        ">   機械学習ライブラリがそのまま扱える行列 **X** が手に入る\n",
        "\n",
        "👇 のセルの `TODO` 部分（`A`〜`E`）に正しい式を代入し、下のテストセルで `✓ Passed` が出ればクリア。\n",
        "\n",
        "【ヒント】`A`〜`E`には以下のいずれかが入る\n",
        "\n",
        "index\tx\ty\tz\tlabel\tnum"
      ]
    },
    {
      "cell_type": "markdown",
      "id": "gJTAupRnOjdD",
      "metadata": {
        "id": "gJTAupRnOjdD"
      },
      "source": [
        "3-0. ドキュメントを読んでみよう 🔍  \n",
        "https://note.nkmk.me/python-pandas-pivot-table/ を読んで使い方を確認"
      ]
    },
    {
      "cell_type": "code",
      "execution_count": null,
      "id": "d83d5f22",
      "metadata": {
        "id": "d83d5f22"
      },
      "outputs": [],
      "source": [
        "# ===== pivot_table を完成させよう =====\n",
        "pivot = total.pivot_table(\n",
        "    index=['A','B'],        # ① 180 行にしたい\n",
        "    columns='C',            # ② 0〜20 の index を列にしたい\n",
        "    values=['D','E']        # ③ x と y のみを使用したい\n",
        ")\n",
        "# 列 multi‑index → フラット名 (x0,y0,x1,y1,...)\n",
        "pivot.columns = [f'{c}{i}' for c,i in pivot.columns]\n",
        "\n",
        "# 行列・ラベルへ分割\n",
        "X = pivot.values\n",
        "y = pivot.index.get_level_values('label').values\n",
        "\n",
        "print('X', X.shape, 'y', y.shape)"
      ]
    },
    {
      "cell_type": "code",
      "execution_count": null,
      "id": "446f454b",
      "metadata": {
        "id": "446f454b"
      },
      "outputs": [],
      "source": [
        "# ---- テスト ----\n",
        "assert X.shape==(180,42), 'X の shape が違います'\n",
        "assert y.shape==(180,), 'y の shape が違います'\n",
        "ref = total.query('label==1 & num==1').sort_values('index')\n",
        "assert np.isclose(X[0,0], ref.iloc[0]['x']), 'x0 値が一致しません'\n",
        "print('✓ Passed! pivot OK')"
      ]
    },
    {
      "cell_type": "markdown",
      "id": "5dc256d0",
      "metadata": {
        "id": "5dc256d0"
      },
      "source": [
        "## 4. SVM 学習 & 初回評価"
      ]
    },
    {
      "cell_type": "code",
      "execution_count": null,
      "id": "b428d7a2",
      "metadata": {
        "id": "b428d7a2"
      },
      "outputs": [],
      "source": [
        "X_train, X_test, y_train, y_test = train_test_split(\n",
        "    X, y, test_size=0.3, stratify=y, random_state=42)\n",
        "clf = SVC(kernel='linear', C=10).fit(X_train, y_train)\n",
        "pred = clf.predict(X_test)\n",
        "acc = accuracy_score(y_test, pred)\n",
        "print(f'1回目 accuracy={acc:.3f}')\n",
        "ConfusionMatrixDisplay.from_predictions(y_test, pred, cmap='Blues'); plt.show()"
      ]
    },
    {
      "cell_type": "markdown",
      "id": "64b16dac",
      "metadata": {
        "id": "64b16dac"
      },
      "source": [
        "## 5. 考察タスク (自動化セルあり)"
      ]
    },
    {
      "cell_type": "markdown",
      "id": "f50ea159",
      "metadata": {
        "id": "f50ea159"
      },
      "source": [
        "### 5‑1. 繰り返し学習で精度のばらつきを見る"
      ]
    },
    {
      "cell_type": "code",
      "execution_count": null,
      "id": "912f95ce",
      "metadata": {
        "id": "912f95ce"
      },
      "outputs": [],
      "source": [
        "def run_many(n=10, C=10, kernel='linear'):\n",
        "    accs=[]\n",
        "    for seed in range(n):\n",
        "        X_train, X_test, y_train, y_test = train_test_split(\n",
        "            X, y, test_size=0.3, stratify=y, random_state=seed)\n",
        "        model = SVC(C=C, kernel=kernel).fit(X_train, y_train)\n",
        "        accs.append(accuracy_score(y_test, model.predict(X_test)))\n",
        "    return accs\n",
        "\n",
        "acc_list = run_many()\n",
        "print('10 runs acc:', acc_list)\n",
        "print('mean=', np.mean(acc_list).round(3), 'std=', np.std(acc_list).round(3))"
      ]
    },
    {
      "cell_type": "markdown",
      "id": "c25ed2e6",
      "metadata": {
        "id": "c25ed2e6"
      },
      "source": [
        "### 5‑2. `C` を変えて平均精度を比較"
      ]
    },
    {
      "cell_type": "code",
      "execution_count": null,
      "id": "581375f3",
      "metadata": {
        "id": "581375f3"
      },
      "outputs": [],
      "source": [
        "for C in [0.1, 1, 10, 100]:\n",
        "    accs = run_many(10, C=C)\n",
        "    print(f'C={C:<4}  mean={np.mean(accs):.3f}')"
      ]
    },
    {
      "cell_type": "markdown",
      "id": "cf24639c",
      "metadata": {
        "id": "cf24639c"
      },
      "source": [
        "### 5‑3. `kernel` を変えて比較"
      ]
    },
    {
      "cell_type": "code",
      "execution_count": null,
      "id": "be78e837",
      "metadata": {
        "id": "be78e837"
      },
      "outputs": [],
      "source": [
        "for k in ['linear','rbf','poly','sigmoid']:\n",
        "    accs = run_many(10, C=10, kernel=k)\n",
        "    print(f'kernel={k:<8} mean={np.mean(accs):.3f}')"
      ]
    },
    {
      "cell_type": "markdown",
      "id": "0ec79835",
      "metadata": {
        "id": "0ec79835"
      },
      "source": [
        "## 6. 発展課題1 — 最小値シフトで正規化\n",
        "\n",
        "**目的:**  \n",
        "各サンプル内で x, y の最小値を原点に移動し、  \n",
        "*提示位置ズレ* の影響を減らして精度が上がるか試す。\n",
        "\n",
        "👇 セルの `TODO` 箇所 (`A`, `B`) に正しい式を入れて実装してください。"
      ]
    },
    {
      "cell_type": "code",
      "execution_count": null,
      "id": "e9c76172",
      "metadata": {
        "id": "e9c76172"
      },
      "outputs": [],
      "source": [
        "# SettingWithCopyWarning を無視\n",
        "import warnings, copy\n",
        "warnings.simplefilter('ignore')\n",
        "\n",
        "max_label, max_num, max_index = 9, 20, 21\n",
        "df_shifted = pd.DataFrame(columns=df.columns)\n",
        "\n",
        "for l in range(max_label):\n",
        "    for n in range(max_num):\n",
        "        df_q = df.query(f'label=={l+1} & num=={n+1}').copy()\n",
        "        # ===== TODO: 各サンプルの最小値を引く =====\n",
        "        df_q.loc[:,'x'] = df_q['x'] - df_q['x'].min(axis=A)   # ← A\n",
        "        df_q.loc[:,'y'] = df_q['y'] - df_q['y'].min(axis=A)   # ← A\n",
        "        df_shifted = pd.concat([df_shifted, B])  # ← B\n",
        "\n",
        "print('shifted shape', df_shifted.shape)"
      ]
    },
    {
      "cell_type": "markdown",
      "id": "9ba58ed8",
      "metadata": {
        "id": "9ba58ed8"
      },
      "source": [
        "### 6‑1. シフト後散布図"
      ]
    },
    {
      "cell_type": "code",
      "execution_count": null,
      "id": "f89d6dbf",
      "metadata": {
        "id": "f89d6dbf"
      },
      "outputs": [],
      "source": [
        "plt.figure(figsize=(4,4))\n",
        "plt.scatter(df_shifted['x'], df_shifted['y'], c=df_shifted['index'], s=5, cmap='tab20')\n",
        "plt.gca().set_aspect('equal'); plt.title('shifted landmarks'); plt.show()"
      ]
    },
    {
      "cell_type": "markdown",
      "id": "3af28af4",
      "metadata": {
        "id": "3af28af4"
      },
      "source": [
        "### 6‑2. シフト後データで再学習"
      ]
    },
    {
      "cell_type": "code",
      "execution_count": null,
      "id": "ab01ce57",
      "metadata": {
        "id": "ab01ce57"
      },
      "outputs": [],
      "source": [
        "pivot_s = df_shifted.pivot_table(index=['label','num'],\n",
        "                                   columns='index', values=['x','y'])\n",
        "pivot_s.columns = [f'{c}{i}' for c,i in pivot_s.columns]\n",
        "Xs = pivot_s.values\n",
        "ys = pivot_s.index.get_level_values('label').values\n",
        "\n",
        "accs = run_many(10, C=10, kernel='linear')\n",
        "accs_s = []\n",
        "for seed in range(10):\n",
        "    X_train, X_test, y_train, y_test = train_test_split(\n",
        "        Xs, ys, test_size=0.3, stratify=ys, random_state=seed)\n",
        "    accs_s.append(accuracy_score(\n",
        "        SVC(C=10,kernel='linear').fit(X_train,y_train).predict(X_test), y_test))\n",
        "print('original mean:', np.mean(accs).round(3),\n",
        "      'shifted mean:', np.mean(accs_s).round(3))"
      ]
    },
    {
      "cell_type": "markdown",
      "id": "c372c287",
      "metadata": {
        "id": "c372c287"
      },
      "source": [
        "## 7. 発展課題2（任意）\n",
        "- (a) **さらに精度を上げる工夫**：学習データの追加・z軸も追加・モデル変更など  \n",
        "- (b) **コード改善**：関数化・可視化ツール追加  \n",
        "- (c) **識別対象を増やす**：0, 10 など  \n",
        "- (d) **左右手の区別を無くす**：左右反転データ追加や handedness 用特徴を導入  \n",
        "- (e) その他便利機能があれば自由に実装  \n",
        "\n",
        "挑戦した内容と結果をノートに追記してください。"
      ]
    },
    {
      "cell_type": "markdown",
      "id": "450e9b15",
      "metadata": {
        "id": "450e9b15"
      },
      "source": [
        "## 8. 最終考察 (まとめ)"
      ]
    },
    {
      "cell_type": "markdown",
      "id": "2fe03d5d",
      "metadata": {
        "id": "2fe03d5d"
      },
      "source": [
        "_ここに最終まとめを書く_"
      ]
    }
  ],
  "metadata": {
    "colab": {
      "provenance": []
    },
    "kernelspec": {
      "display_name": "Python 3",
      "name": "python3"
    },
    "language_info": {
      "codemirror_mode": {
        "name": "ipython",
        "version": 3
      },
      "file_extension": ".py",
      "mimetype": "text/x-python",
      "name": "python",
      "nbconvert_exporter": "python",
      "pygments_lexer": "ipython3",
      "version": "3.13.4"
    }
  },
  "nbformat": 4,
  "nbformat_minor": 5
}
